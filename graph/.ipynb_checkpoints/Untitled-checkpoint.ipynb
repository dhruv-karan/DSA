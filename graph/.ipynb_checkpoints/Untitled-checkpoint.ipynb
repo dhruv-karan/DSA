{
 "cells": [
  {
   "cell_type": "markdown",
   "metadata": {},
   "source": [
    "SPanning Tree:\n",
    "<img src=\"MSG.png\">\n",
    "\n",
    "THe sum of the edges is lower is minimum spannig Tree:\n",
    "\n",
    "It should not be non cyclic\n",
    "Should not be cyclic\n",
    "Characterstics\n",
    "<img src=\"char.png\">\n"
   ]
  },
  {
   "cell_type": "markdown",
   "metadata": {},
   "source": [
    "##Kurskal Alrorithm\n",
    "\n",
    "<img src=\"kurskal.png\">\n",
    "\n",
    "\n",
    "Steps:</b>\n",
    "First Remove all the loops.</b>\n",
    "Remove parallel edges. Keep which is minimum.</b>\n",
    "Then arrange the weight edges in acending order.</b>\n",
    "redraw the graph kepping in mind we should not make a loop"
   ]
  },
  {
   "cell_type": "code",
   "execution_count": 16,
   "metadata": {},
   "outputs": [
    {
     "name": "stdout",
     "output_type": "stream",
     "text": [
      "Enter the number of nodes6\n",
      "V11\n",
      "V26\n",
      "Enter The weight of edge7\n",
      "V11\n",
      "V23\n",
      "Enter The weight of edge3\n",
      "V11\n",
      "V22\n",
      "Enter The weight of edge5\n",
      "V12\n",
      "V21\n",
      "Enter The weight of edge5\n",
      "V12\n",
      "V23\n",
      "Enter The weight of edge6\n",
      "V12\n",
      "V24\n",
      "Enter The weight of edge2\n",
      "V12\n",
      "V25\n",
      "Enter The weight of edge4\n",
      "V13\n",
      "V21\n",
      "Enter The weight of edge3\n",
      "V13\n",
      "V24\n",
      "Enter The weight of edge3\n",
      "V13\n",
      "V22\n",
      "Enter The weight of edge6\n",
      "V13\n",
      "V26\n",
      "Enter The weight of edge8\n",
      "V14\n",
      "V22\n",
      "Enter The weight of edge2\n",
      "V14\n",
      "V23\n",
      "Enter The weight of edge3\n",
      "V14\n",
      "V25\n",
      "Enter The weight of edge2\n",
      "V15\n",
      "V22\n",
      "Enter The weight of edge4\n",
      "V15\n",
      "V24\n",
      "Enter The weight of edge2\n",
      "V16\n",
      "V21\n",
      "Enter The weight of edge7\n",
      "V16\n",
      "V23\n",
      "Enter The weight of edge8\n",
      "V1-1\n",
      "Terminated\n"
     ]
    }
   ],
   "source": [
    "class Graph:\n",
    "    def __init__(self,size):\n",
    "        self.adjMatrix = []\n",
    "        for i in range(size):\n",
    "            self.adjMatrix.append([0 for i in range(size)])\n",
    "        self.size = size\n",
    "    \n",
    "    def addEdge(self,v1,v2):\n",
    "        if v1==v2: print('Same')\n",
    "        c = int(input('Enter The weight of edge'))\n",
    "        self.adjMatrix[v1-1][v2-1] = c\n",
    "        self.adjMatrix[v2-1][v1-1] = c\n",
    "        \n",
    "    def display(self):\n",
    "        print(self.adjMatrix)\n",
    "        \n",
    "n = int(input('Enter the number of nodes'))\n",
    "g1 = Graph(n)\n",
    "flag =0\n",
    "while(flag !=-1):\n",
    "    v1 = int(input('V1'))\n",
    "    if v1==-1:\n",
    "        print('Terminated')\n",
    "        flag = -1\n",
    "    else:\n",
    "        v2 = int(input('V2'))\n",
    "        g1.addEdge(v1,v2)"
   ]
  },
  {
   "cell_type": "code",
   "execution_count": 17,
   "metadata": {},
   "outputs": [
    {
     "name": "stdout",
     "output_type": "stream",
     "text": [
      "[[0, 5, 3, 0, 0, 7], [5, 0, 6, 2, 4, 0], [3, 6, 0, 3, 0, 8], [0, 2, 3, 0, 2, 0], [0, 4, 0, 2, 0, 0], [7, 0, 8, 0, 0, 0]]\n"
     ]
    }
   ],
   "source": [
    "g1.display()"
   ]
  },
  {
   "cell_type": "code",
   "execution_count": null,
   "metadata": {},
   "outputs": [],
   "source": []
  },
  {
   "cell_type": "code",
   "execution_count": null,
   "metadata": {},
   "outputs": [],
   "source": []
  },
  {
   "cell_type": "code",
   "execution_count": null,
   "metadata": {},
   "outputs": [],
   "source": []
  },
  {
   "cell_type": "code",
   "execution_count": null,
   "metadata": {},
   "outputs": [],
   "source": []
  },
  {
   "cell_type": "code",
   "execution_count": null,
   "metadata": {},
   "outputs": [],
   "source": []
  },
  {
   "cell_type": "code",
   "execution_count": null,
   "metadata": {},
   "outputs": [],
   "source": []
  },
  {
   "cell_type": "code",
   "execution_count": null,
   "metadata": {},
   "outputs": [],
   "source": []
  },
  {
   "cell_type": "code",
   "execution_count": null,
   "metadata": {},
   "outputs": [],
   "source": []
  },
  {
   "cell_type": "code",
   "execution_count": null,
   "metadata": {},
   "outputs": [],
   "source": []
  },
  {
   "cell_type": "code",
   "execution_count": null,
   "metadata": {},
   "outputs": [],
   "source": []
  }
 ],
 "metadata": {
  "kernelspec": {
   "display_name": "Python 3",
   "language": "python",
   "name": "python3"
  },
  "language_info": {
   "codemirror_mode": {
    "name": "ipython",
    "version": 3
   },
   "file_extension": ".py",
   "mimetype": "text/x-python",
   "name": "python",
   "nbconvert_exporter": "python",
   "pygments_lexer": "ipython3",
   "version": "3.6.8"
  }
 },
 "nbformat": 4,
 "nbformat_minor": 2
}
